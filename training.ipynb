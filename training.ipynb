{
  "nbformat": 4,
  "nbformat_minor": 0,
  "metadata": {
    "colab": {
      "name": "Untitled6.ipynb",
      "provenance": [],
      "collapsed_sections": []
    },
    "kernelspec": {
      "display_name": "Python 3",
      "name": "python3"
    },
    "language_info": {
      "name": "python"
    }
  },
  "cells": [
    {
      "cell_type": "code",
      "metadata": {
        "id": "6sZmOez7aYD9"
      },
      "source": [
        "import os\n",
        "import cv2\n",
        "import numpy as np\n",
        "import pandas as pd\n",
        "import matplotlib.pyplot as plt\n",
        "import imutils\n",
        "import imutils.paths as path\n",
        "from pandas import DataFrame\n",
        "import pathlib\n",
        "import glob\n",
        "from skimage.feature import greycomatrix, greycoprops\n",
        "from skimage.transform import rescale\n",
        "\n",
        "from sklearn.naive_bayes import GaussianNB, MultinomialNB, BernoulliNB\n",
        "from sklearn.model_selection import train_test_split\n",
        "from sklearn.metrics import confusion_matrix, accuracy_score, classification_report\n",
        "from sklearn.linear_model import LogisticRegression\n",
        "from sklearn.svm import SVC"
      ],
      "execution_count": null,
      "outputs": []
    },
    {
      "cell_type": "code",
      "metadata": {
        "id": "Aq-ahE3Sav-b"
      },
      "source": [
        "L = 256\n",
        "\n",
        "def getAngledGLCM(gray, alpha):\n",
        "    row, col = gray.shape\n",
        "    glcm = np.zeros((L, L), np.uint8)\n",
        "    xy = [0, 0]\n",
        "    rowStart = 0\n",
        "    colStart = 0\n",
        "    rowEnd = row\n",
        "    colEnd = col - 1\n",
        "\n",
        "    if alpha == 0:\n",
        "        xy = [0, 1]\n",
        "    elif alpha == 45:\n",
        "        xy = [-1, 1]\n",
        "        rowStart = 1\n",
        "        colStart = 0\n",
        "    elif alpha == 90:\n",
        "        xy = [-1, 0]\n",
        "        rowStart = 1\n",
        "        colEnd = col\n",
        "    else:\n",
        "        xy = [-1, -1]\n",
        "        rowStart = 1\n",
        "        colStart = 1\n",
        "        colEnd = col\n",
        "\n",
        "    for x in range(rowStart, rowEnd):\n",
        "        for y in range(colStart, colEnd):\n",
        "            pixVal = gray[x, y]\n",
        "            pixValNeighbor = gray[x + xy[0], y + xy[1]]\n",
        "            glcm[pixVal, pixValNeighbor] += 1\n",
        "\n",
        "    return glcm / glcm.sum()\n",
        "\n",
        "\n",
        "def getGLCM(gray, alpha):\n",
        "    # alpha = 0\n",
        "\n",
        "    # for i in range(4):\n",
        "    glcm = getAngledGLCM(gray, alpha)\n",
        "    # alpha += 45\n",
        "\n",
        "    return glcm\n",
        "\n",
        "\n",
        "def getSumGLCM(glcm):\n",
        "    sumX = []\n",
        "    sumY = []\n",
        "\n",
        "    for i in range(L):\n",
        "        sumY.append(glcm[:, i].sum())\n",
        "        sumX.append(glcm[i, :].sum())\n",
        "\n",
        "    return [sumX, sumY]\n",
        "\n",
        "\n",
        "def getMean(glcm, sumX, sumY):\n",
        "    # sumX, sumY = getSumGLCM(glcm)\n",
        "    meanX = 0.0\n",
        "    meanY = 0.0\n",
        "\n",
        "    for i in range(L):\n",
        "        meanX += i * sumX[i]\n",
        "        meanY += i * sumY[i]\n",
        "\n",
        "    return [meanX, meanY]\n",
        "\n",
        "def getVarianceXY(glcm, sumX, sumY, meanX, meanY):\n",
        "    # meanX, meanY = getMean(glcm)\n",
        "    # sumX, sumY = getSumGLCM(glcm)\n",
        "    varX = 0.0\n",
        "    varY = 0.0\n",
        "\n",
        "    for i in range(L):\n",
        "        varX += ((i - meanX) ** 2) * sumX[i]\n",
        "        varY += ((i - meanY) ** 2) * sumY[i]\n",
        "\n",
        "    return [varX, varY]\n",
        "\n",
        "\n",
        "def getStandardDeviation(varX, varY):\n",
        "    # varX, varY = getVarianceXY(glcm)\n",
        "\n",
        "    return [np.sqrt(varX), np.sqrt(varY)]\n",
        "\n",
        "\n",
        "def getASM(glcm):\n",
        "    return np.power(glcm.flatten(), 2).sum()\n",
        "\n",
        "\n",
        "def getContrast(glcm):\n",
        "    con = 0.0\n",
        "\n",
        "    for x in range(L):\n",
        "        for y in range(L):\n",
        "            con += ((x - y) ** 2) * glcm[x, y]\n",
        "\n",
        "    return con\n",
        "\n",
        "\n",
        "def getCorrelation(glcm, meanX, meanY, sdX, sdY):\n",
        "    cor = 0.0\n",
        "    # meanX, meanY = getMean(glcm)\n",
        "    # sdX, sdY = getStandardDeviation(glcm)\n",
        "\n",
        "    for x in range(L):\n",
        "        for y in range(L):\n",
        "            cor += (x * y) * glcm[x, y]\n",
        "\n",
        "    return (cor - (meanX * meanY)) / (sdX * sdY)\n",
        "\n",
        "\n",
        "def getIDM(glcm):\n",
        "    idm = 0.0\n",
        "  \n",
        "    for x in range(L):\n",
        "        for y in range(L):\n",
        "            idm += glcm[x, y] / (1 + ((x - y) ** 2))\n",
        "\n",
        "    return idm"
      ],
      "execution_count": null,
      "outputs": []
    },
    {
      "cell_type": "code",
      "metadata": {
        "id": "3HQ3spWCa2N7"
      },
      "source": [
        "data_path = '/content/drive/MyDrive/DATAA'\n",
        "categories = os.listdir(data_path)\n",
        "labels = [i for i in range(len(categories))]\n",
        "label_dict = dict(zip(categories, labels))\n",
        "\n",
        "dict = {}\n",
        "label = []\n",
        "properties = ['asm', 'contrast', 'correlation', 'idm']\n",
        "columns = []\n",
        "angles = ['0', '45', '90', '135']\n",
        "for name in properties:\n",
        "    for ang in angles:\n",
        "        columns.append(name + \"_\" + ang)\n",
        "columns.append(\"label\")\n",
        "\n",
        "test = pd.DataFrame()\n",
        "\n",
        "res = []"
      ],
      "execution_count": null,
      "outputs": []
    },
    {
      "cell_type": "code",
      "metadata": {
        "id": "Ezkwshwda8b6"
      },
      "source": [
        "for category in categories:\n",
        "    folder_path=os.path.join(data_path, category)\n",
        "    img_names=os.listdir(folder_path)\n",
        "    for img_name in img_names:\n",
        "        img_path=os.path.join(folder_path, img_name)\n",
        "        # for i in tqdm(img_path, desc=\"load\"):\n",
        "        img = cv2.imread(img_path)\n",
        "        resize = imutils.resize(img, width=128, height=128)\n",
        "        #hsv= cv2.cvtColor(resize, cv2.COLOR_BGR2HSV)\n",
        "        gray= cv2.cvtColor(resize, cv2.COLOR_BGR2GRAY)\n",
        "        #gamma_two_point_two = np.array(255*(gray/255)**1.5,dtype='uint8')\n",
        "        #img3 = cv2.hconcat([gamma_two_point_two])\n",
        "        glcm = np.zeros((L, L), np.float64)\n",
        "        # label.append(label_dict[category])\n",
        "        alpha = 0\n",
        "        dict = {}\n",
        "        dict['label'] = label_dict[category]\n",
        "\n",
        "        for i in range(4):\n",
        "            glcm = getGLCM(gray, alpha)\n",
        "            sumX, sumY = getSumGLCM(glcm)\n",
        "            meanX, meanY = getMean(glcm, sumX, sumY)\n",
        "            varX, varY = getVarianceXY(glcm, sumX, sumY, meanX, meanY)\n",
        "            sdX, sdY = getStandardDeviation(varX, varY)\n",
        "            mean = [meanX, meanY]\n",
        "            asm = getASM(glcm)\n",
        "            contrast = getContrast(glcm)\n",
        "            correlation = getCorrelation(glcm, meanX, meanY, sdX, sdY)\n",
        "            idm = getIDM(glcm)\n",
        "\n",
        "            dict[\"asm_{}\".format(alpha)] = asm\n",
        "            dict[\"contrast_{}\".format(alpha)] = contrast\n",
        "            dict[\"correlation_{}\".format(alpha)] = correlation\n",
        "            dict[\"idm_{}\".format(alpha)] = idm\n",
        "            alpha += 45\n",
        "\n",
        "        res.append(dict)"
      ],
      "execution_count": null,
      "outputs": []
    },
    {
      "cell_type": "code",
      "metadata": {
        "id": "jOba9Zsabhri"
      },
      "source": [
        "glcm_df = pd.DataFrame(res)"
      ],
      "execution_count": null,
      "outputs": []
    },
    {
      "cell_type": "code",
      "metadata": {
        "colab": {
          "base_uri": "https://localhost:8080/"
        },
        "id": "5CKQ1TgJbiba",
        "outputId": "3438d240-29e3-4160-bb03-6c1e0c1dfdf0"
      },
      "source": [
        "# train test splitting\n",
        "y = glcm_df['label']\n",
        "X = glcm_df.drop(columns='label')\n",
        "X_train, X_test, y_train, y_test = train_test_split(X, y, test_size=0.2, random_state=0)\n",
        "\n",
        "#prepare naive bayes\n",
        "clf = GaussianNB()\n",
        "#clf = MultinomialNB()\n",
        "#clf = BernoulliNB()\n",
        "y_pred = clf.fit(X_train, y_train).predict(X_test)\n",
        "\n",
        "cnf = confusion_matrix(y_test, y_pred)\n",
        "print(cnf)"
      ],
      "execution_count": null,
      "outputs": [
        {
          "output_type": "stream",
          "name": "stdout",
          "text": [
            "[[7 2 0]\n",
            " [2 5 1]\n",
            " [0 4 6]]\n"
          ]
        }
      ]
    },
    {
      "cell_type": "code",
      "metadata": {
        "colab": {
          "base_uri": "https://localhost:8080/"
        },
        "id": "-kMRr1TDblp0",
        "outputId": "8b9c6a19-20c9-452c-cf2a-f1a332a38206"
      },
      "source": [
        "print(f'Akurasi: {accuracy_score(y_test, y_pred):.2%}')\n",
        "print(classification_report(y_test, y_pred))"
      ],
      "execution_count": null,
      "outputs": [
        {
          "output_type": "stream",
          "name": "stdout",
          "text": [
            "Akurasi: 66.67%\n",
            "              precision    recall  f1-score   support\n",
            "\n",
            "           0       0.78      0.78      0.78         9\n",
            "           1       0.45      0.62      0.53         8\n",
            "           2       0.86      0.60      0.71        10\n",
            "\n",
            "    accuracy                           0.67        27\n",
            "   macro avg       0.70      0.67      0.67        27\n",
            "weighted avg       0.71      0.67      0.68        27\n",
            "\n"
          ]
        }
      ]
    },
    {
      "cell_type": "code",
      "metadata": {
        "colab": {
          "base_uri": "https://localhost:8080/",
          "height": 339
        },
        "id": "IW8OT4e3cf58",
        "outputId": "692c6f66-a798-409c-a5bb-490147702ae0"
      },
      "source": [
        "import seaborn as sns\n",
        "import matplotlib.pyplot as plt\n",
        "f, ax = plt.subplots(figsize=(8,5))\n",
        "sns.heatmap(confusion_matrix(y_test, y_pred), annot=True, fmt=\".0f\", ax=ax)\n",
        "plt.xlabel(\"y_head\")\n",
        "plt.ylabel(\"y_true\")\n",
        "plt.show()"
      ],
      "execution_count": null,
      "outputs": [
        {
          "output_type": "display_data",
          "data": {
            "image/png": "[encoded data removed]",
            "text/plain": [
              "<Figure size 576x360 with 2 Axes>"
            ]
          },
          "metadata": {
            "needs_background": "light"
          }
        }
      ]
    },
    {
      "cell_type": "code",
      "metadata": {
        "id": "4yvzsdRJcga6"
      },
      "source": [
        "import pickle\n",
        "pickle.dump(clf, open('model_training.sav', 'wb'))"
      ],
      "execution_count": null,
      "outputs": []
    },
    {
      "cell_type": "code",
      "metadata": {
        "id": "86o9fR0s9SXB"
      },
      "source": [
        ""
      ],
      "execution_count": null,
      "outputs": []
    }
  ]
}